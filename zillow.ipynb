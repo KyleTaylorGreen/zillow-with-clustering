{
 "cells": [
  {
   "cell_type": "code",
   "execution_count": 1,
   "id": "9dbd8803",
   "metadata": {},
   "outputs": [],
   "source": [
    "# reloads import files each time a cell is ran\n",
    "%load_ext autoreload\n",
    "%autoreload 2\n",
    "\n",
    "import pandas as pd\n",
    "\n",
    "import modeling as md\n",
    "import wrangle as wr\n",
    "import exploration as exp\n",
    "import acquire\n",
    "import prepare\n",
    "import split"
   ]
  },
  {
   "cell_type": "code",
   "execution_count": 45,
   "id": "a55d0446",
   "metadata": {},
   "outputs": [
    {
     "name": "stdout",
     "output_type": "stream",
     "text": [
      "52280\n"
     ]
    },
    {
     "data": {
      "text/plain": [
       "0.9692807957153787"
      ]
     },
     "execution_count": 45,
     "metadata": {},
     "output_type": "execute_result"
    }
   ],
   "source": [
    "zillow, cats, quants = wr.wrangle_zillow()\n",
    "print(zillow.shape[0])\n",
    "\n",
    "def na_summary(df):\n",
    "    names = [df.columns]\n",
    "    \n",
    "    for name in names:\n",
    "        mean_of_na = pd.DataFrame(df[name].isna().mean())\n",
    "        sum_of_na = pd.DataFrame(df[name].isna().sum())\n",
    "        merged = pd.merge(sum_of_na,mean_of_na, left_index=True, right_index=True)\n",
    "        merged = merged.rename(columns={'0_x': 'num_rows_missing', '0_y': 'pct_rows_missing'})\n",
    "        \n",
    "    return merged\n",
    "\n",
    "\n",
    "def threshold(df, index_col, prop_required):\n",
    "    threshold = eval(f'int(round(prop_required*len(df.{index_col}),0))')\n",
    "    #print(threshold)\n",
    "    \n",
    "    return threshold\n",
    "\n",
    "\n",
    "\n",
    "def handle_missing_values(df, prop_required_column = .7, prop_required_row = .5):\n",
    "    # create thresholds\n",
    "    thresh = threshold(df, 'index', prop_required_column)\n",
    "    \n",
    "    # drop cols that don't meet prop requirement\n",
    "    df.dropna(axis=1, thresh=thresh, inplace=True)\n",
    "    \n",
    "    thresh = threshold(df, 'columns', prop_required_row)\n",
    "    # drop rows that don't meet prop requirement\n",
    "    df.dropna(axis=0, thresh=thresh, inplace=True)\n",
    "    \n",
    "    # return changed dataframe with data that meets requirements\n",
    "    return df\n",
    "    \n",
    "handle_missing_values(zillow)\n",
    "#. zillow = handle_missing_values(zillow)\n",
    "zillow.isna().mean().sum()\n",
    "zillow.dropna().shape[0] / zillow.shape[0]\n",
    "# na_summary(zillow)"
   ]
  },
  {
   "cell_type": "code",
   "execution_count": null,
   "id": "0936d4e9",
   "metadata": {},
   "outputs": [],
   "source": []
  }
 ],
 "metadata": {
  "kernelspec": {
   "display_name": "Python 3 (ipykernel)",
   "language": "python",
   "name": "python3"
  },
  "language_info": {
   "codemirror_mode": {
    "name": "ipython",
    "version": 3
   },
   "file_extension": ".py",
   "mimetype": "text/x-python",
   "name": "python",
   "nbconvert_exporter": "python",
   "pygments_lexer": "ipython3",
   "version": "3.9.7"
  }
 },
 "nbformat": 4,
 "nbformat_minor": 5
}
